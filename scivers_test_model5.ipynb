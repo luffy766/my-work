{
  "nbformat": 4,
  "nbformat_minor": 0,
  "metadata": {
    "colab": {
      "provenance": [],
      "mount_file_id": "1f-3se-TJGatNfgFppmZtfMOkBTg_JUGi",
      "authorship_tag": "ABX9TyNazzjuqjs2LDhAjVyfuPge"
    },
    "kernelspec": {
      "name": "python3",
      "display_name": "Python 3"
    },
    "language_info": {
      "name": "python"
    }
  },
  "cells": [
    {
      "cell_type": "code",
      "source": [
        "#import the required packages\n",
        "from tensorflow.keras.layers import Input, Lambda, Dense, Flatten,Dropout\n",
        "from tensorflow.keras.models import Model\n",
        "from tensorflow.keras.applications.vgg19 import VGG19\n",
        "from tensorflow.keras.applications.vgg19 import preprocess_input\n",
        "from tensorflow.keras.preprocessing import image\n",
        "from tensorflow.keras.preprocessing.image import ImageDataGenerator\n",
        "from tensorflow.keras.models import Sequential\n",
        "import numpy as np\n",
        "import pandas as pd\n",
        "import os\n",
        "import cv2\n",
        "import matplotlib.pyplot as plt"
      ],
      "metadata": {
        "id": "-kH6-It0DhWq"
      },
      "execution_count": 35,
      "outputs": []
    },
    {
      "cell_type": "code",
      "source": [
        "# re-size all the images to this\n",
        "IMAGE_SIZE = [224, 224]"
      ],
      "metadata": {
        "id": "F0RAZ4rxDvWT"
      },
      "execution_count": 36,
      "outputs": []
    },
    {
      "cell_type": "code",
      "source": [
        "#Path to the train and test dataset\n",
        "train_path=\"/content/drive/MyDrive/assignment scivers/jpeg_model/train1\"\n",
        "test_path=\"/content/drive/MyDrive/assignment scivers/jpeg_model/test1\"\n"
      ],
      "metadata": {
        "id": "UdhvajA9DxKa"
      },
      "execution_count": 37,
      "outputs": []
    },
    {
      "cell_type": "code",
      "source": [
        "import os\n",
        "import cv2"
      ],
      "metadata": {
        "id": "4WSN1FDqEe3Q"
      },
      "execution_count": 5,
      "outputs": []
    },
    {
      "cell_type": "code",
      "source": [
        "#resizing the images and appending it to array\n",
        "x_train=[]\n",
        "\n",
        "for folder in os.listdir(train_path):\n",
        "    sub_path=train_path+\"/\"+folder\n",
        "    for img in os.listdir(sub_path):\n",
        "        image_path=sub_path+\"/\"+img\n",
        "        img_arr=cv2.imread(image_path)\n",
        "        img_arr=cv2.resize(img_arr,(224,224))\n",
        "        x_train.append(img_arr)"
      ],
      "metadata": {
        "id": "jRGii7H5DzLo"
      },
      "execution_count": 38,
      "outputs": []
    },
    {
      "cell_type": "code",
      "source": [
        "#resizing the images and appending it to array\n",
        "x_test=[]\n",
        "\n",
        "for folder in os.listdir(test_path):\n",
        "    sub_path=test_path+\"/\"+folder\n",
        "    for img in os.listdir(sub_path):\n",
        "        image_path=sub_path+\"/\"+img\n",
        "        img_arr=cv2.imread(image_path)\n",
        "        img_arr=cv2.resize(img_arr,(224,224))\n",
        "        x_test.append(img_arr)\n",
        "    "
      ],
      "metadata": {
        "id": "LLE2P2wqD24p"
      },
      "execution_count": 40,
      "outputs": []
    },
    {
      "cell_type": "code",
      "source": [
        "# changing names of arrays to train and test respectively\n",
        "train_x=np.array(x_train)\n",
        "test_x=np.array(x_test)"
      ],
      "metadata": {
        "id": "VoNCXg4DErgm"
      },
      "execution_count": 41,
      "outputs": []
    },
    {
      "cell_type": "code",
      "source": [
        "#checking the shape of array\n",
        "train_x.shape,test_x.shape"
      ],
      "metadata": {
        "colab": {
          "base_uri": "https://localhost:8080/"
        },
        "id": "Xan-XfPcEtNX",
        "outputId": "f799e903-2288-4567-bc21-bbacce46e83e"
      },
      "execution_count": 42,
      "outputs": [
        {
          "output_type": "execute_result",
          "data": {
            "text/plain": [
              "((90, 224, 224, 3), (20, 224, 224, 3))"
            ]
          },
          "metadata": {},
          "execution_count": 42
        }
      ]
    },
    {
      "cell_type": "markdown",
      "source": [
        " x_train,x_test, must be divided by 255.0 for normalization."
      ],
      "metadata": {
        "id": "dH-AHikYJkT1"
      }
    },
    {
      "cell_type": "code",
      "source": [
        "#normalizing the array\n",
        "train_x=train_x/255.0\n",
        "test_x=test_x/255.0"
      ],
      "metadata": {
        "id": "P8QgUEu6E4uM"
      },
      "execution_count": 43,
      "outputs": []
    },
    {
      "cell_type": "code",
      "source": [
        "from tensorflow.keras.preprocessing.image import ImageDataGenerator\n"
      ],
      "metadata": {
        "id": "uHtd2UBBFDt8"
      },
      "execution_count": 44,
      "outputs": []
    },
    {
      "cell_type": "markdown",
      "source": [
        "Compute the labels of the corresponding datasets using ImageDataGenerator.This is used because our images are stored in folders"
      ],
      "metadata": {
        "id": "oPiEOUl6Jumd"
      }
    },
    {
      "cell_type": "code",
      "source": [
        "# rescaling the images using imagedatagenarator\n",
        "train_datagen = ImageDataGenerator(rescale = 1./255) \n",
        "test_datagen = ImageDataGenerator(rescale = 1./255)\n",
        "\n",
        "\n",
        "\n",
        "training_set = train_datagen.flow_from_directory(train_path,\n",
        "                                                 target_size = (224, 224),\n",
        "                                                 batch_size = 32,\n",
        "                                                 class_mode = 'sparse')\n",
        "\n",
        "test_set = test_datagen.flow_from_directory(test_path,\n",
        "                                            target_size = (224, 224),\n",
        "                                            batch_size = 32,\n",
        "                                            class_mode = 'sparse')\n"
      ],
      "metadata": {
        "colab": {
          "base_uri": "https://localhost:8080/"
        },
        "id": "B7U7rpOLFFV-",
        "outputId": "4fb4597b-6145-4450-cea4-63397c40e8bd"
      },
      "execution_count": 45,
      "outputs": [
        {
          "output_type": "stream",
          "name": "stdout",
          "text": [
            "Found 90 images belonging to 2 classes.\n",
            "Found 20 images belonging to 2 classes.\n"
          ]
        }
      ]
    },
    {
      "cell_type": "code",
      "source": [
        "#class indices\n",
        "training_set.class_indices"
      ],
      "metadata": {
        "colab": {
          "base_uri": "https://localhost:8080/"
        },
        "id": "yjDXcBYxFNk5",
        "outputId": "f8a3a2ae-8a09-4115-900c-3cf1060efb3a"
      },
      "execution_count": 46,
      "outputs": [
        {
          "output_type": "execute_result",
          "data": {
            "text/plain": [
              "{'negative': 0, 'positive': 1}"
            ]
          },
          "metadata": {},
          "execution_count": 46
        }
      ]
    },
    {
      "cell_type": "code",
      "source": [
        "#setting the labels as the target variable for the classes\n",
        "train_y=training_set.classes"
      ],
      "metadata": {
        "id": "GbAkBwKzFQ1M"
      },
      "execution_count": 47,
      "outputs": []
    },
    {
      "cell_type": "code",
      "source": [
        "test_y=test_set.classes"
      ],
      "metadata": {
        "id": "YLslfhEyFTTG"
      },
      "execution_count": 48,
      "outputs": []
    },
    {
      "cell_type": "code",
      "source": [
        "train_y.shape,test_y.shape"
      ],
      "metadata": {
        "colab": {
          "base_uri": "https://localhost:8080/"
        },
        "id": "WLl5-W6kFVMl",
        "outputId": "59e9525a-4d53-4b6c-8744-32c537af7d1e"
      },
      "execution_count": 49,
      "outputs": [
        {
          "output_type": "execute_result",
          "data": {
            "text/plain": [
              "((90,), (20,))"
            ]
          },
          "metadata": {},
          "execution_count": 49
        }
      ]
    },
    {
      "cell_type": "code",
      "source": [
        "# adding preprocessing layer to the front of VGG\n",
        "vgg = VGG19(input_shape=IMAGE_SIZE + [3], weights='imagenet', include_top=False)\n"
      ],
      "metadata": {
        "id": "SrUKT8BkFXh4"
      },
      "execution_count": 51,
      "outputs": []
    },
    {
      "cell_type": "code",
      "source": [
        "# not to train existing weights\n",
        "for layer in vgg.layers:\n",
        "    layer.trainable = False"
      ],
      "metadata": {
        "id": "_Uit3iFgFhaG"
      },
      "execution_count": 52,
      "outputs": []
    },
    {
      "cell_type": "code",
      "source": [
        "# our layers - we can add more if needed\n",
        "x = Flatten()(vgg.output)\n",
        "\n",
        "prediction = Dense(2, activation='sigmoid')(x)"
      ],
      "metadata": {
        "id": "W_KEzspyFkkP"
      },
      "execution_count": 53,
      "outputs": []
    },
    {
      "cell_type": "code",
      "source": [
        "# create a model object\n",
        "model = Model(inputs=vgg.input, outputs=prediction)\n",
        "\n",
        "# view the structure of the model\n",
        "model.summary()"
      ],
      "metadata": {
        "colab": {
          "base_uri": "https://localhost:8080/"
        },
        "id": "3VN7gnzRFqlC",
        "outputId": "2d4c86f8-18ca-4ddf-e4a6-5dc2c47b393d"
      },
      "execution_count": 54,
      "outputs": [
        {
          "output_type": "stream",
          "name": "stdout",
          "text": [
            "Model: \"model_1\"\n",
            "_________________________________________________________________\n",
            " Layer (type)                Output Shape              Param #   \n",
            "=================================================================\n",
            " input_3 (InputLayer)        [(None, 224, 224, 3)]     0         \n",
            "                                                                 \n",
            " block1_conv1 (Conv2D)       (None, 224, 224, 64)      1792      \n",
            "                                                                 \n",
            " block1_conv2 (Conv2D)       (None, 224, 224, 64)      36928     \n",
            "                                                                 \n",
            " block1_pool (MaxPooling2D)  (None, 112, 112, 64)      0         \n",
            "                                                                 \n",
            " block2_conv1 (Conv2D)       (None, 112, 112, 128)     73856     \n",
            "                                                                 \n",
            " block2_conv2 (Conv2D)       (None, 112, 112, 128)     147584    \n",
            "                                                                 \n",
            " block2_pool (MaxPooling2D)  (None, 56, 56, 128)       0         \n",
            "                                                                 \n",
            " block3_conv1 (Conv2D)       (None, 56, 56, 256)       295168    \n",
            "                                                                 \n",
            " block3_conv2 (Conv2D)       (None, 56, 56, 256)       590080    \n",
            "                                                                 \n",
            " block3_conv3 (Conv2D)       (None, 56, 56, 256)       590080    \n",
            "                                                                 \n",
            " block3_conv4 (Conv2D)       (None, 56, 56, 256)       590080    \n",
            "                                                                 \n",
            " block3_pool (MaxPooling2D)  (None, 28, 28, 256)       0         \n",
            "                                                                 \n",
            " block4_conv1 (Conv2D)       (None, 28, 28, 512)       1180160   \n",
            "                                                                 \n",
            " block4_conv2 (Conv2D)       (None, 28, 28, 512)       2359808   \n",
            "                                                                 \n",
            " block4_conv3 (Conv2D)       (None, 28, 28, 512)       2359808   \n",
            "                                                                 \n",
            " block4_conv4 (Conv2D)       (None, 28, 28, 512)       2359808   \n",
            "                                                                 \n",
            " block4_pool (MaxPooling2D)  (None, 14, 14, 512)       0         \n",
            "                                                                 \n",
            " block5_conv1 (Conv2D)       (None, 14, 14, 512)       2359808   \n",
            "                                                                 \n",
            " block5_conv2 (Conv2D)       (None, 14, 14, 512)       2359808   \n",
            "                                                                 \n",
            " block5_conv3 (Conv2D)       (None, 14, 14, 512)       2359808   \n",
            "                                                                 \n",
            " block5_conv4 (Conv2D)       (None, 14, 14, 512)       2359808   \n",
            "                                                                 \n",
            " block5_pool (MaxPooling2D)  (None, 7, 7, 512)         0         \n",
            "                                                                 \n",
            " flatten_1 (Flatten)         (None, 25088)             0         \n",
            "                                                                 \n",
            " dense_1 (Dense)             (None, 2)                 50178     \n",
            "                                                                 \n",
            "=================================================================\n",
            "Total params: 20,074,562\n",
            "Trainable params: 50,178\n",
            "Non-trainable params: 20,024,384\n",
            "_________________________________________________________________\n"
          ]
        }
      ]
    },
    {
      "cell_type": "code",
      "source": [
        "# cost and optimization method used by model\n",
        "model.compile(\n",
        "  loss='sparse_categorical_crossentropy',\n",
        "  optimizer=\"adam\",\n",
        "  metrics=['accuracy']\n",
        ")"
      ],
      "metadata": {
        "id": "gZ6GczBBFs_D"
      },
      "execution_count": 55,
      "outputs": []
    },
    {
      "cell_type": "code",
      "source": [
        "#Early stopping to avoid overfitting of model\n",
        "from tensorflow.keras.callbacks import EarlyStopping\n",
        "early_stop=EarlyStopping(monitor='accuracy',mode='max',verbose=1,patience=5)\n",
        "\n"
      ],
      "metadata": {
        "id": "oAYQfrWuFyTQ"
      },
      "execution_count": 56,
      "outputs": []
    },
    {
      "cell_type": "code",
      "source": [
        "# fit the model\n",
        "history = model.fit(\n",
        "  train_x,\n",
        "  train_y,\n",
        "  epochs=10,\n",
        "  callbacks=[early_stop],\n",
        "  batch_size=32,shuffle=True)"
      ],
      "metadata": {
        "colab": {
          "base_uri": "https://localhost:8080/"
        },
        "id": "Tony2iz-F2EV",
        "outputId": "6c2cdca4-ae27-4515-97ff-66f9b244e927"
      },
      "execution_count": 57,
      "outputs": [
        {
          "output_type": "stream",
          "name": "stdout",
          "text": [
            "Epoch 1/10\n",
            "3/3 [==============================] - 60s 19s/step - loss: 2.0582 - accuracy: 0.4556\n",
            "Epoch 2/10\n",
            "3/3 [==============================] - 61s 20s/step - loss: 1.1694 - accuracy: 0.4556\n",
            "Epoch 3/10\n",
            "3/3 [==============================] - 61s 20s/step - loss: 0.7801 - accuracy: 0.6556\n",
            "Epoch 4/10\n",
            "3/3 [==============================] - 59s 19s/step - loss: 0.9035 - accuracy: 0.6000\n",
            "Epoch 5/10\n",
            "3/3 [==============================] - 59s 19s/step - loss: 0.7172 - accuracy: 0.5111\n",
            "Epoch 6/10\n",
            "3/3 [==============================] - 61s 19s/step - loss: 0.5975 - accuracy: 0.5778\n",
            "Epoch 7/10\n",
            "3/3 [==============================] - 61s 19s/step - loss: 0.6434 - accuracy: 0.7444\n",
            "Epoch 8/10\n",
            "3/3 [==============================] - 58s 19s/step - loss: 0.4724 - accuracy: 0.8333\n",
            "Epoch 9/10\n",
            "3/3 [==============================] - 61s 20s/step - loss: 0.4768 - accuracy: 0.8000\n",
            "Epoch 10/10\n",
            "3/3 [==============================] - 61s 20s/step - loss: 0.4043 - accuracy: 0.8222\n"
          ]
        }
      ]
    },
    {
      "cell_type": "code",
      "source": [
        "#plotting the loss vs accuracy graph\n",
        "plt.plot(history.history['loss'], label='train loss')\n",
        "plt.plot(history.history['accuracy'], label='train acc')\n",
        "\n",
        "plt.legend()\n",
        "\n",
        "plt.savefig('vgg-loss-rps-1.png')\n",
        "plt.show()"
      ],
      "metadata": {
        "colab": {
          "base_uri": "https://localhost:8080/",
          "height": 265
        },
        "id": "aV6Gs3rTF4Fr",
        "outputId": "b61d2a42-ba4d-497c-8327-1b51495f2a30"
      },
      "execution_count": 58,
      "outputs": [
        {
          "output_type": "display_data",
          "data": {
            "text/plain": [
              "<Figure size 432x288 with 1 Axes>"
            ],
            "image/png": "[encoded data removed]"
          },
          "metadata": {
            "needs_background": "light"
          }
        }
      ]
    },
    {
      "cell_type": "code",
      "source": [
        "#evaluating the model on test dataset\n",
        "model.evaluate(test_x,test_y,batch_size=32)"
      ],
      "metadata": {
        "colab": {
          "base_uri": "https://localhost:8080/"
        },
        "id": "d32X7uy0INv5",
        "outputId": "b9ddbe4f-f4e9-4d1d-cd0d-ccac46c339ce"
      },
      "execution_count": 59,
      "outputs": [
        {
          "output_type": "stream",
          "name": "stdout",
          "text": [
            "1/1 [==============================] - 13s 13s/step - loss: 0.3511 - accuracy: 0.8500\n"
          ]
        },
        {
          "output_type": "execute_result",
          "data": {
            "text/plain": [
              "[0.3510749936103821, 0.8500000238418579]"
            ]
          },
          "metadata": {},
          "execution_count": 59
        }
      ]
    },
    {
      "cell_type": "code",
      "source": [
        "from sklearn.metrics import accuracy_score,classification_report,confusion_matrix\n",
        "import numpy as np"
      ],
      "metadata": {
        "id": "YucxycMrIQ2W"
      },
      "execution_count": 60,
      "outputs": []
    },
    {
      "cell_type": "code",
      "source": [
        "y_pred=model.predict(test_x)\n",
        "y_pred=np.argmax(y_pred,axis=1)"
      ],
      "metadata": {
        "colab": {
          "base_uri": "https://localhost:8080/"
        },
        "id": "Ta1af11FIS7Z",
        "outputId": "9238a90f-dcdc-421d-d297-a639d9da06ae"
      },
      "execution_count": 61,
      "outputs": [
        {
          "output_type": "stream",
          "name": "stdout",
          "text": [
            "1/1 [==============================] - 13s 13s/step\n"
          ]
        }
      ]
    },
    {
      "cell_type": "code",
      "source": [
        "#accuracy Score of test data set\n",
        "accuracy_score(y_pred,test_y)"
      ],
      "metadata": {
        "colab": {
          "base_uri": "https://localhost:8080/"
        },
        "id": "Y71XCsphIVyP",
        "outputId": "dcf0c50f-7197-4a67-c791-05b3fbaea100"
      },
      "execution_count": 62,
      "outputs": [
        {
          "output_type": "execute_result",
          "data": {
            "text/plain": [
              "0.85"
            ]
          },
          "metadata": {},
          "execution_count": 62
        }
      ]
    },
    {
      "cell_type": "code",
      "source": [
        "#Classification report on the test dataset\n",
        "print(classification_report(y_pred,test_y))"
      ],
      "metadata": {
        "colab": {
          "base_uri": "https://localhost:8080/"
        },
        "id": "DtDx-LdUIYLa",
        "outputId": "cff2f4e1-8b88-4669-fc02-72ac94672b24"
      },
      "execution_count": 63,
      "outputs": [
        {
          "output_type": "stream",
          "name": "stdout",
          "text": [
            "              precision    recall  f1-score   support\n",
            "\n",
            "           0       1.00      0.77      0.87        13\n",
            "           1       0.70      1.00      0.82         7\n",
            "\n",
            "    accuracy                           0.85        20\n",
            "   macro avg       0.85      0.88      0.85        20\n",
            "weighted avg       0.89      0.85      0.85        20\n",
            "\n"
          ]
        }
      ]
    },
    {
      "cell_type": "code",
      "source": [
        "confusion_matrix(y_pred,test_y)"
      ],
      "metadata": {
        "colab": {
          "base_uri": "https://localhost:8080/"
        },
        "id": "K-sMDBGKJAEF",
        "outputId": "6958a7ba-1256-436a-b1b2-6742e3b0bb09"
      },
      "execution_count": 64,
      "outputs": [
        {
          "output_type": "execute_result",
          "data": {
            "text/plain": [
              "array([[10,  3],\n",
              "       [ 0,  7]])"
            ]
          },
          "metadata": {},
          "execution_count": 64
        }
      ]
    },
    {
      "cell_type": "code",
      "source": [],
      "metadata": {
        "id": "YewmwpRMJHcI"
      },
      "execution_count": null,
      "outputs": []
    }
  ]
}